{
 "cells": [
  {
   "cell_type": "code",
   "execution_count": 11,
   "metadata": {},
   "outputs": [],
   "source": [
    "import numpy as np\n",
    "import pygadgetic"
   ]
  },
  {
   "cell_type": "code",
   "execution_count": 12,
   "metadata": {},
   "outputs": [],
   "source": [
    "with open(\".//saved arrays//positions.npy\", 'rb') as f:\n",
    "    positions  = np.load(f)\n",
    "with open(\".//saved arrays//velocities.npy\", 'rb') as f:\n",
    "    velocities = np.load(f)"
   ]
  },
  {
   "cell_type": "code",
   "execution_count": 13,
   "metadata": {},
   "outputs": [
    {
     "data": {
      "text/plain": [
       "array([[-0.19191732, -0.92296986,  0.11414873],\n",
       "       [ 0.49545703, -0.20436927, -0.1922574 ],\n",
       "       [ 0.51014729,  0.10137424, -0.51052085],\n",
       "       ...,\n",
       "       [ 0.01774544, -0.01409899, -0.05092147],\n",
       "       [ 0.05664311, -0.02157874, -0.01735193],\n",
       "       [-0.43513379, -0.19904861, -0.05786332]])"
      ]
     },
     "execution_count": 13,
     "metadata": {},
     "output_type": "execute_result"
    }
   ],
   "source": [
    "positions"
   ]
  },
  {
   "cell_type": "code",
   "execution_count": 14,
   "metadata": {},
   "outputs": [
    {
     "data": {
      "text/plain": [
       "array([[-7.46445776e-14,  8.55477371e-14, -9.98272493e-14],\n",
       "       [-1.89376089e-13, -2.10297026e-13, -1.61813511e-13],\n",
       "       [-1.53338991e-13, -6.16262379e-14,  2.13677882e-13],\n",
       "       ...,\n",
       "       [-9.18873594e-13, -1.78495372e-13, -1.41581855e-13],\n",
       "       [-2.56031688e-13, -2.34134404e-13, -5.73842086e-13],\n",
       "       [-1.14934675e-13,  3.83694119e-14, -8.73479766e-14]])"
      ]
     },
     "execution_count": 14,
     "metadata": {},
     "output_type": "execute_result"
    }
   ],
   "source": [
    "velocities"
   ]
  },
  {
   "cell_type": "code",
   "execution_count": 19,
   "metadata": {},
   "outputs": [],
   "source": [
    "# Define number of particles of each type.\n",
    "# INDEX [0]:Gas   [1]:Halo   [2]:Disk   [3]:Buldge   [4]:Stars   [5]:Boundary\n",
    "npart = [2**16,0,0,0,0,0]\n",
    "total_number_of_particles = np.sum(npart,dtype=\"float64\")\n",
    "\n",
    "# Create objects:\n",
    "my_header = pygadgetic.Header()\n",
    "my_body   = pygadgetic.Body(npart)"
   ]
  },
  {
   "cell_type": "code",
   "execution_count": 20,
   "metadata": {},
   "outputs": [],
   "source": [
    "# Fill in the header space.\n",
    "my_header.NumPart_ThisFile = np.array(npart)\n",
    "my_header.NumPart_Total = np.array(npart)"
   ]
  },
  {
   "cell_type": "code",
   "execution_count": 24,
   "metadata": {},
   "outputs": [],
   "source": [
    "# Fill in the body space.\n",
    "for id in range(0,int(total_number_of_particles)):\n",
    "    my_body.pos[id,:] = positions[id]\n",
    "\n",
    "for id in range(0,int(total_number_of_particles)):\n",
    "    my_body.vel[id,:] = velocities[id]\n",
    "\n",
    "my_body.mass[:] = 1 # Sets all mass elements equal (1 Gadget Unit Mass)\n",
    "\n",
    "my_body.id[:] = np.arange(0,int(total_number_of_particles))\n",
    "# This generates an array from 0 to total_number_of_particles."
   ]
  },
  {
   "cell_type": "code",
   "execution_count": 25,
   "metadata": {},
   "outputs": [
    {
     "name": "stdout",
     "output_type": "stream",
     "text": [
      "Checking header...\n",
      "Writing header (little endian)\n",
      "Writing body (little endian)\n",
      "=== SUMMARY ===\n",
      "{'BoxSize': 0,\n",
      " 'Flag_Cooling': 0,\n",
      " 'Flag_Feedback': 0,\n",
      " 'Flag_Metals': 0,\n",
      " 'Flag_Sfr': 0,\n",
      " 'Flag_StellarAge': 0,\n",
      " 'HubbleParam': 0,\n",
      " 'MassTable': array([0., 0., 0., 0., 0., 0.]),\n",
      " 'NumFilesPerSnapshot': 1,\n",
      " 'NumPart_ThisFile': array([65536,     0,     0,     0,     0,     0]),\n",
      " 'NumPart_Total': array([65536,     0,     0,     0,     0,     0]),\n",
      " 'Omega0': 0,\n",
      " 'OmegaLambda': 0,\n",
      " 'Redshift': 0,\n",
      " 'Time': 0}\n"
     ]
    }
   ],
   "source": [
    "# Let's export the Initial Condition file:\n",
    "my_name = \"./test_ic.dat\"\n",
    "pygadgetic.dump_ic(my_header,my_body,my_name)"
   ]
  },
  {
   "cell_type": "code",
   "execution_count": null,
   "metadata": {},
   "outputs": [],
   "source": []
  }
 ],
 "metadata": {
  "kernelspec": {
   "display_name": "Python 3",
   "language": "python",
   "name": "python3"
  },
  "language_info": {
   "codemirror_mode": {
    "name": "ipython",
    "version": 3
   },
   "file_extension": ".py",
   "mimetype": "text/x-python",
   "name": "python",
   "nbconvert_exporter": "python",
   "pygments_lexer": "ipython3",
   "version": "3.7.7"
  }
 },
 "nbformat": 4,
 "nbformat_minor": 2
}
