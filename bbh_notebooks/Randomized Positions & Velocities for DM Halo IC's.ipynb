{
 "cells": [
  {
   "cell_type": "markdown",
   "metadata": {},
   "source": [
    "Some functions defined in DM detection around BH paper (Nickles):"
   ]
  },
  {
   "cell_type": "code",
   "execution_count": 257,
   "metadata": {},
   "outputs": [],
   "source": [
    "import scipy.stats as st\n",
    "import numpy as np\n",
    "import random\n",
    "\n",
    "from scipy.stats import rv_continuous\n",
    "from scipy.interpolate import interp1d\n",
    "from mpl_toolkits import mplot3d\n",
    "from math import isnan\n",
    "from astropy import units as u\n",
    "from astropy import constants as c\n",
    "\n",
    "%matplotlib inline\n",
    "import matplotlib.pyplot as plt"
   ]
  },
  {
   "cell_type": "code",
   "execution_count": 270,
   "metadata": {},
   "outputs": [],
   "source": [
    "G        = c.G\n",
    "m_1      = 10**4 * (u.solMass)      # solar mass of intermediate mass black hole\n",
    "\n",
    "\n",
    "rho_sp   = 226 * (u.solMass/(u.parsec**3))              # solar mass / pc**3\n",
    "gamma_sp = 2              # slope parameter\n",
    "\n",
    "\n",
    "# r_in   = 5.906*10**7 * (u.meter)      # meters, ASSUMING gamma_sp = 7/3\n",
    "r_in     = 1.914*10**-9 * (u.parsec)     # \"Parsecs\"\n",
    "\n",
    "# r_sp   = 3.61324*10**16 * (u.meter)  # meters, ASSUMING gamma_sp = 7/3\n",
    "r_sp     = 1.17097 * (u.parsec)         # \"Parsecs\""
   ]
  },
  {
   "cell_type": "code",
   "execution_count": 221,
   "metadata": {},
   "outputs": [],
   "source": [
    "def m_dm(r):\n",
    "    m_dm = ((4*sc.pi*rho_sp*r_sp**gamma_sp)\n",
    "            /(3-gamma_sp))*r**(3-gamma_sp)\n",
    "    return m_dm"
   ]
  },
  {
   "cell_type": "code",
   "execution_count": 222,
   "metadata": {},
   "outputs": [],
   "source": [
    "def m_enc(r):\n",
    "        m_enc = (m_dm(r) - m_dm(r_in))\n",
    "        return m_enc"
   ]
  },
  {
   "cell_type": "code",
   "execution_count": 223,
   "metadata": {},
   "outputs": [],
   "source": [
    "def dark_matter_dist(r):\n",
    "        rho_dm = rho_sp*(r_sp/r)**gamma_sp\n",
    "        return rho_dm*r**2"
   ]
  },
  {
   "cell_type": "markdown",
   "metadata": {},
   "source": [
    "Let's test out a few of these functions:"
   ]
  },
  {
   "cell_type": "code",
   "execution_count": 224,
   "metadata": {},
   "outputs": [
    {
     "data": {
      "text/plain": [
       "[<matplotlib.lines.Line2D at 0x177d403b888>]"
      ]
     },
     "execution_count": 224,
     "metadata": {},
     "output_type": "execute_result"
    },
    {
     "data": {
      "image/png": "[encoded data removed]",
      "text/plain": [
       "<Figure size 432x288 with 1 Axes>"
      ]
     },
     "metadata": {
      "needs_background": "light"
     },
     "output_type": "display_data"
    }
   ],
   "source": [
    "# Let's assort a logspace array of radii from r_in to r_sp limits, roughly.\n",
    "radius  = np.logspace(-9,1,num=1000) * u.parsec\n",
    "\n",
    "\n",
    "# # Calculate the DM mass for each radii.\n",
    "# mass    = []\n",
    "# for _ in radius:\n",
    "#     mass.append(m_enc(_))\n",
    "# m       = plt.figure(1)\n",
    "# plt.loglog()\n",
    "# plt.plot(radius,mass)\n",
    "\n",
    "# And now for the dark-matter distribution:\n",
    "density = dark_matter_dist(radius)\n",
    "d       = plt.figure(2)\n",
    "plt.loglog()\n",
    "\n",
    "plt.plot((radius/u.parsec),(density*(u.parsec)/u.solMass))"
   ]
  },
  {
   "cell_type": "markdown",
   "metadata": {},
   "source": [
    "Weighted Sampling from DM Density Function for radii:"
   ]
  },
  {
   "cell_type": "code",
   "execution_count": 225,
   "metadata": {},
   "outputs": [],
   "source": [
    "def sample_cdf(pdf, xmin, xmax, n_bins=1000, log=False):\n",
    "    if log:\n",
    "        binner = np.geomspace\n",
    "    else:\n",
    "        binner = np.linspace\n",
    "    edges = binner(xmin, xmax, n_bins)\n",
    "    bins = np.vstack((edges[:-1], edges[1:])).T\n",
    "    centers = np.mean(bins, axis=1)\n",
    "    widths = bins[:, 1] - bins[:, 0]\n",
    "    pdf_samples = pdf(centers)\n",
    "    cdf_samples = np.cumsum(pdf_samples * widths)\n",
    "    cdf_samples /= cdf_samples[-1]\n",
    "    return np.vstack((centers, cdf_samples)).T\n",
    "\n",
    "def inverse_CDF(*args, **kwargs):\n",
    "    iy, ix = sample_cdf(*args, **kwargs).T\n",
    "    return interp1d(ix, iy, fill_value='extrapolate')\n",
    "\n",
    "def sample(icdf, n_samples):\n",
    "    range_samples = np.random.uniform(size=n_samples)\n",
    "    return icdf(range_samples)"
   ]
  },
  {
   "cell_type": "code",
   "execution_count": 226,
   "metadata": {},
   "outputs": [
    {
     "name": "stdout",
     "output_type": "stream",
     "text": [
      "Wall time: 161 ms\n"
     ]
    }
   ],
   "source": [
    "%%time\n",
    "def pdf(r):\n",
    "    rho_dm = rho_sp*(r_sp/r)**gamma_sp\n",
    "    return rho_dm*r**2\n",
    "    \n",
    "icdf = inverse_CDF(pdf, 10, 1e3)\n",
    "samples = sample(icdf, 1000000)"
   ]
  },
  {
   "cell_type": "code",
   "execution_count": 227,
   "metadata": {},
   "outputs": [
    {
     "name": "stdout",
     "output_type": "stream",
     "text": [
      "[772.21286745 450.83631604 168.20437244 923.37526686 215.58771606\n",
      " 517.91572694 194.09534814  82.20828733 796.84318674  72.32686969]\n"
     ]
    },
    {
     "data": {
      "image/png": "[encoded data removed]",
      "text/plain": [
       "<Figure size 432x288 with 1 Axes>"
      ]
     },
     "metadata": {
      "needs_background": "light"
     },
     "output_type": "display_data"
    }
   ],
   "source": [
    "plt.loglog()\n",
    "x = np.geomspace(10, 1e3, 100)\n",
    "plt.plot(x, pdf(x))\n",
    "plt.hist(samples, density=True, bins=np.geomspace(10, 1e3, 100));\n",
    "\n",
    "samples = sample(icdf, 10)\n",
    "print(samples)"
   ]
  },
  {
   "cell_type": "markdown",
   "metadata": {},
   "source": [
    "Randomized cartesian coordinates for spherical DM halo:"
   ]
  },
  {
   "cell_type": "code",
   "execution_count": 228,
   "metadata": {},
   "outputs": [],
   "source": [
    "def inverse_cdf(F):\n",
    "    r = (r_sp**(-gamma_sp)*\n",
    "         (F*r_sp**3+r_in**3*(r_sp/r_in)**gamma_sp-F*r_in**3*(r_sp/r_in)**gamma_sp))**(1/(3-gamma_sp))\n",
    "    return r"
   ]
  },
  {
   "cell_type": "code",
   "execution_count": 229,
   "metadata": {},
   "outputs": [],
   "source": [
    "def random_radius(sample):\n",
    "    F = np.random.uniform(size=sample)\n",
    "    return inverse_cdf(F)\n"
   ]
  },
  {
   "cell_type": "code",
   "execution_count": 230,
   "metadata": {},
   "outputs": [],
   "source": [
    "def random_vector():\n",
    "    vector            = np.asarray([np.random.normal() for _ in range(3)])\n",
    "    normalized_vector = vector / np.linalg.norm(vector)\n",
    "#     return normalized_vector[np.newaxis,:] * random_radius(sample)[:,np.newaxis]\n",
    "    rand = random_radius(1)[0]\n",
    "    return normalized_vector * random_radius(1)[0]\n"
   ]
  },
  {
   "cell_type": "code",
   "execution_count": 231,
   "metadata": {},
   "outputs": [
    {
     "name": "stdout",
     "output_type": "stream",
     "text": [
      "[<Quantity [ 0.28569526, -0.26766252,  0.27404715] pc>, <Quantity [-0.34085715,  0.25533444, -0.18781716] pc>, <Quantity [-0.08847862, -0.00275482,  0.05531826] pc>]\n"
     ]
    }
   ],
   "source": [
    "vector = []\n",
    "for i in range(3):\n",
    "    vector.append(random_vector())\n",
    "print(vector)\n"
   ]
  },
  {
   "cell_type": "code",
   "execution_count": 233,
   "metadata": {},
   "outputs": [
    {
     "name": "stdout",
     "output_type": "stream",
     "text": [
      "Vector: [-0.17865832  0.24292025  0.23411961] pc\n"
     ]
    },
    {
     "data": {
      "image/png": "[encoded data removed]",
      "text/plain": [
       "<Figure size 432x288 with 1 Axes>"
      ]
     },
     "metadata": {
      "needs_background": "light"
     },
     "output_type": "display_data"
    }
   ],
   "source": [
    "example_vector = random_vector()\n",
    "print('Vector:', example_vector)\n",
    "\n",
    "zdata = []\n",
    "ydata = []\n",
    "xdata = []\n",
    "\n",
    "vectors = []\n",
    "for i in range(1000):\n",
    "    vectors.append(random_vector())\n",
    "# print(vector)\n",
    "\n",
    "for vector in vectors:\n",
    "    xdata.append(vector[0]/u.parsec)\n",
    "    ydata.append(vector[1]/u.parsec)\n",
    "    zdata.append(vector[2]/u.parsec)\n",
    "\n",
    "    \n",
    "ax = plt.axes(projection='3d')\n",
    "ax.scatter3D(xdata,ydata,zdata,s=5);"
   ]
  },
  {
   "cell_type": "markdown",
   "metadata": {},
   "source": [
    "Let's randomize the velocities of each DM particle!"
   ]
  },
  {
   "cell_type": "markdown",
   "metadata": {},
   "source": [
    "Here, we take our N(E) function, eq. (4.4), and plot it:\n",
    "This defines the number of particles (y-axis) with an associated energy (x-axis)."
   ]
  },
  {
   "cell_type": "code",
   "execution_count": 259,
   "metadata": {},
   "outputs": [],
   "source": [
    "from math import *\n",
    "\n",
    "# Equation for N(E) as calculated using Mathematica.\n",
    "\n",
    "def number_per_energy(epsilon):\n",
    "    num_particles =                                                \\\n",
    "    (G**3)*(sc.pi**(3/2))*(epsilon**(gamma_sp-4))*(m_1**3)         \\\n",
    "    *((r_sp/(G*m_1))**gamma_sp)*(gamma_sp-1)*(gamma_sp)*(rho_sp)   \\\n",
    "    *gamma(gamma_sp-1)\n",
    "    \n",
    "    num_particles = num_particles / (gamma(gamma_sp-(1/2)))\n",
    "    return num_particles\n"
   ]
  },
  {
   "cell_type": "code",
   "execution_count": 316,
   "metadata": {},
   "outputs": [
    {
     "name": "stdout",
     "output_type": "stream",
     "text": [
      "pc2 solMass / s2\n",
      "  Name   = Gravitational constant\n",
      "  Value  = 6.6743e-11\n",
      "  Uncertainty  = 1.5e-15\n",
      "  Unit  = m3 / (kg s2)\n",
      "  Reference = CODATA 2018\n"
     ]
    },
    {
     "data": {
      "text/latex": [
       "$9.2910081 \\times 10^{-86} \\; \\mathrm{\\frac{s^{2}}{kg\\,m^{2}}}$"
      ],
      "text/plain": [
       "<Quantity 9.29100809e-86 s2 / (kg m2)>"
      ]
     },
     "execution_count": 316,
     "metadata": {},
     "output_type": "execute_result"
    }
   ],
   "source": [
    "print(unit_energy)\n",
    "# Off by a factor of kg**(1/3)?\n",
    "print(G)\n",
    "number_per_energy(unit_energy).decompose()"
   ]
  },
  {
   "cell_type": "code",
   "execution_count": 274,
   "metadata": {},
   "outputs": [
    {
     "data": {
      "text/plain": [
       "[<matplotlib.lines.Line2D at 0x177d5ec2d08>]"
      ]
     },
     "execution_count": 274,
     "metadata": {},
     "output_type": "execute_result"
    },
    {
     "data": {
      "image/png": "[encoded data removed]",
      "text/plain": [
       "<Figure size 432x288 with 1 Axes>"
      ]
     },
     "metadata": {
      "needs_background": "light"
     },
     "output_type": "display_data"
    }
   ],
   "source": [
    "unit_energy = (u.solMass*u.parsec**2*u.s**-2)\n",
    "\n",
    "\n",
    "energies   = np.logspace(-9,1,num=100) * unit_energy\n",
    "# print(r_in)\n",
    "# print(r_sp)\n",
    "num_energy = []\n",
    "for dE in energies:\n",
    "    num_energy.append(number_per_energy(dE)*unit_energy)\n",
    "plt.loglog()\n",
    "plt.plot(energies/unit_energy,num_energy)\n"
   ]
  },
  {
   "cell_type": "markdown",
   "metadata": {},
   "source": [
    "Then, we must normalize our function over some epsilon_min to +inf. \n",
    "Using Mathematica, we find the following expression!"
   ]
  },
  {
   "cell_type": "code",
   "execution_count": 281,
   "metadata": {},
   "outputs": [],
   "source": [
    "\n",
    "def norm_energy(epsilon_min,epsilon_max):\n",
    "    normFinal =                                          \\\n",
    "    (G**3)*(sc.pi**(3/2))*(m_1**3)                       \\\n",
    "    *((r_sp/(G*m_1))**gamma_sp)*(gamma_sp-1)*(gamma_sp)  \\\n",
    "    *((-epsilon_max**(gamma_sp))*(epsilon_min**3)        \\\n",
    "    +(epsilon_max**3)*epsilon_min**(gamma_sp))*(rho_sp)  \\\n",
    "    *gamma(gamma_sp-1)\n",
    "    \n",
    "    normFinal /= ((gamma_sp-3)*(gamma(gamma_sp-(1/2))))*(epsilon_max**3)*(epsilon_min**3)\n",
    "    return normFinal\n",
    "\n",
    "# Re calculate from -inf to e_min\n",
    "# Okay, we did that: all that changes is the sign of the output!\n",
    "                                               "
   ]
  },
  {
   "cell_type": "code",
   "execution_count": 289,
   "metadata": {},
   "outputs": [
    {
     "name": "stdout",
     "output_type": "stream",
     "text": [
      "-45599.03044368055 solMass\n"
     ]
    }
   ],
   "source": [
    "epsilon_unit = (u.solMass/u.parsec)*(u.meter**3/(u.kg*u.second**2))\n",
    "\n",
    "epsilon_min = (G*m_1)/(10*r_sp)\n",
    "# Some outer radius threshold, we define to be ~10*r_sp.\n",
    "epsilon_max = (G*m_1)/(10*r_in)\n",
    "# Some inner radius threshold, we define to be ~10*r_in????\n",
    "\n",
    "norm = norm_energy(epsilon_min,epsilon_max)\n",
    "# We define new N(E) function / norm\n",
    "\n",
    "print(norm)"
   ]
  },
  {
   "cell_type": "markdown",
   "metadata": {},
   "source": [
    "We need to randomly sample energy for a given particle based on the energy functions above."
   ]
  },
  {
   "cell_type": "code",
   "execution_count": 291,
   "metadata": {},
   "outputs": [
    {
     "name": "stdout",
     "output_type": "stream",
     "text": [
      "[-0.16212826 -0.05790522 -0.27038303 -0.26809249 -0.12496017  0.1028429\n",
      " -0.22296493 -0.25702568]\n",
      "Wall time: 5 ms\n"
     ]
    }
   ],
   "source": [
    "%%time\n",
    "# Then, to sample random energies, we refer to the previously-done exercise.\n",
    "\n",
    "# Our N(E) function, normalized.\n",
    "def norm_num_per_energy(e):\n",
    "    num = number_per_energy(e)/norm\n",
    "    return num\n",
    "    \n",
    "icdf = inverse_CDF(norm_num_per_energy, epsilon_min/epsilon_unit, epsilon_max/epsilon_unit)\n",
    "samples = sample(icdf, 8)\n",
    "print(samples)\n",
    "\n",
    "def random_energy(num):\n",
    "    samples = sample(icdf, num)\n",
    "    return samples * unit_energy\n"
   ]
  },
  {
   "cell_type": "markdown",
   "metadata": {},
   "source": [
    "Here, we quickly generate a random set of unit vectors for the velocity's direction:"
   ]
  },
  {
   "cell_type": "code",
   "execution_count": 292,
   "metadata": {},
   "outputs": [],
   "source": [
    "# This is very similar to the previous function for generating random vectors, but without the random radius.\n",
    "def random_unit_vector(num):\n",
    "    arr = np.random.normal(size=num*3).reshape((num,3))\n",
    "    arr /= np.linalg.norm(arr,axis=1)[:,np.newaxis]\n",
    "    return arr\n"
   ]
  },
  {
   "cell_type": "code",
   "execution_count": 293,
   "metadata": {},
   "outputs": [
    {
     "name": "stdout",
     "output_type": "stream",
     "text": [
      "Wall time: 2 ms\n"
     ]
    }
   ],
   "source": [
    "%%time\n",
    "# Test creating num amount of random unit vectors.\n",
    "\n",
    "num = 10000\n",
    "r = np.random.normal(size=num*3).reshape((num,3))\n",
    "r /= np.linalg.norm(r,axis=1)[:,np.newaxis]\n"
   ]
  },
  {
   "cell_type": "code",
   "execution_count": 294,
   "metadata": {},
   "outputs": [
    {
     "name": "stdout",
     "output_type": "stream",
     "text": [
      "Wall time: 378 ms\n"
     ]
    }
   ],
   "source": [
    "%%time\n",
    "# Then, we compare the previous method with for loops and the timing.\n",
    "\n",
    "points = []\n",
    "for i in range(num):\n",
    "    r = np.asarray([np.random.normal() for j in range(3)])\n",
    "    r /= np.linalg.norm(r)\n",
    "    points.append(r)\n",
    "\n",
    "    "
   ]
  },
  {
   "cell_type": "code",
   "execution_count": 295,
   "metadata": {},
   "outputs": [
    {
     "data": {
      "text/plain": [
       "array([[0.70228349, 0.46411798, 0.53980775]])"
      ]
     },
     "execution_count": 295,
     "metadata": {},
     "output_type": "execute_result"
    }
   ],
   "source": [
    "random_unit_vector(num=1)"
   ]
  },
  {
   "cell_type": "code",
   "execution_count": 310,
   "metadata": {},
   "outputs": [],
   "source": [
    "# Here's the gravitational potential as defined in the paper.\n",
    "# SHOULD IT BE NEGATIVE SINCE ATTRACTIVE?\n",
    "m_2 = 1*u.solMass\n",
    "\n",
    "\n",
    "def grav_potential(r):\n",
    "    psi = (G*m_1*m_2)/(r) * u.parsec**-1\n",
    "    return -psi\n",
    "\n",
    "# We obtain the velocity through another equation defined in the paper (4.1)\n",
    "def rand_velocity(r,**kwargs):\n",
    "    e = kwargs.get('e', None)\n",
    "    if (e):\n",
    "        magnitude = (2*(grav_potential(r)-e))**(1/2)\n",
    "        return magnitude\n",
    "    else:\n",
    "        randE = random_energy(1)[0]\n",
    "        magnitude = (2*(grav_potential(r)-randE))**(1/2)\n",
    "        return magnitude, randE\n"
   ]
  },
  {
   "cell_type": "code",
   "execution_count": 311,
   "metadata": {},
   "outputs": [],
   "source": [
    "def rand_vect_gen(num):\n",
    "    for i in range(num):\n",
    "        cartesian = random_vector()                # Generate num amount of position vectors, save the radius.\n",
    "        positions[i,:] = (cartesian)               # We append the (x,y,z) coord's to our position list.\n",
    "    radii = np.linalg.norm(positions,axis=1)\n",
    "    return positions,radii"
   ]
  },
  {
   "cell_type": "code",
   "execution_count": 312,
   "metadata": {},
   "outputs": [
    {
     "name": "stdout",
     "output_type": "stream",
     "text": [
      "gravitational potential -3.0070610043709005e-06 m3 solMass2 / (kg pc s2)\n",
      "random energy:  -0.01270513236261072 pc2 solMass / s2\n"
     ]
    }
   ],
   "source": [
    "# What kind of magnitudes are we looking at for the gravitational potential VS the random energy?\n",
    "print('gravitational potential',grav_potential(0.22195426))\n",
    "print('random energy: ',random_energy(1)[0])\n"
   ]
  },
  {
   "cell_type": "markdown",
   "metadata": {},
   "source": [
    "Then, for some number of particles, we generate a velocity direction and magnitude:"
   ]
  },
  {
   "cell_type": "code",
   "execution_count": 315,
   "metadata": {},
   "outputs": [
    {
     "name": "stdout",
     "output_type": "stream",
     "text": [
      "[0.4092832  0.23890289 1.06543828 0.80949539 0.52196963 1.14184054\n",
      " 0.59739455 0.00381037 1.03791937 1.16768057] \n",
      "\n"
     ]
    },
    {
     "name": "stderr",
     "output_type": "stream",
     "text": [
      "C:\\Users\\ENG\\Anaconda3\\lib\\site-packages\\astropy\\units\\quantity.py:477: RuntimeWarning: invalid value encountered in sqrt\n",
      "  result = super().__array_ufunc__(function, method, *arrays, **kwargs)\n"
     ]
    },
    {
     "ename": "UnitConversionError",
     "evalue": "'m(3/2) solMass / (kg(1/2) pc(1/2) s)' and 's2 / (pc2 solMass)' are not convertible",
     "output_type": "error",
     "traceback": [
      "\u001b[1;31m---------------------------------------------------------------------------\u001b[0m",
      "\u001b[1;31mUnitConversionError\u001b[0m                       Traceback (most recent call last)",
      "\u001b[1;32m~\\Anaconda3\\lib\\site-packages\\astropy\\units\\quantity.py\u001b[0m in \u001b[0;36mto_value\u001b[1;34m(self, unit, equivalencies)\u001b[0m\n\u001b[0;32m    726\u001b[0m             \u001b[1;32mtry\u001b[0m\u001b[1;33m:\u001b[0m\u001b[1;33m\u001b[0m\u001b[1;33m\u001b[0m\u001b[0m\n\u001b[1;32m--> 727\u001b[1;33m                 \u001b[0mscale\u001b[0m \u001b[1;33m=\u001b[0m \u001b[0mself\u001b[0m\u001b[1;33m.\u001b[0m\u001b[0munit\u001b[0m\u001b[1;33m.\u001b[0m\u001b[0m_to\u001b[0m\u001b[1;33m(\u001b[0m\u001b[0munit\u001b[0m\u001b[1;33m)\u001b[0m\u001b[1;33m\u001b[0m\u001b[1;33m\u001b[0m\u001b[0m\n\u001b[0m\u001b[0;32m    728\u001b[0m             \u001b[1;32mexcept\u001b[0m \u001b[0mException\u001b[0m\u001b[1;33m:\u001b[0m\u001b[1;33m\u001b[0m\u001b[1;33m\u001b[0m\u001b[0m\n",
      "\u001b[1;32m~\\Anaconda3\\lib\\site-packages\\astropy\\units\\core.py\u001b[0m in \u001b[0;36m_to\u001b[1;34m(self, other)\u001b[0m\n\u001b[0;32m    950\u001b[0m         raise UnitConversionError(\n\u001b[1;32m--> 951\u001b[1;33m             f\"'{self!r}' is not a scaled version of '{other!r}'\")\n\u001b[0m\u001b[0;32m    952\u001b[0m \u001b[1;33m\u001b[0m\u001b[0m\n",
      "\u001b[1;31mUnitConversionError\u001b[0m: 'Unit(\"m(3/2) solMass / (kg(1/2) pc(1/2) s)\")' is not a scaled version of 'Unit(\"s2 / (pc2 solMass)\")'",
      "\nDuring handling of the above exception, another exception occurred:\n",
      "\u001b[1;31mUnitConversionError\u001b[0m                       Traceback (most recent call last)",
      "\u001b[1;32m<timed exec>\u001b[0m in \u001b[0;36m<module>\u001b[1;34m\u001b[0m\n",
      "\u001b[1;32m~\\Anaconda3\\lib\\site-packages\\astropy\\units\\core.py\u001b[0m in \u001b[0;36m__rdiv__\u001b[1;34m(self, m)\u001b[0m\n\u001b[0;32m    673\u001b[0m                 \u001b[1;32mreturn\u001b[0m \u001b[0mresult\u001b[0m\u001b[1;33m\u001b[0m\u001b[1;33m\u001b[0m\u001b[0m\n\u001b[0;32m    674\u001b[0m             \u001b[1;32melse\u001b[0m\u001b[1;33m:\u001b[0m\u001b[1;33m\u001b[0m\u001b[1;33m\u001b[0m\u001b[0m\n\u001b[1;32m--> 675\u001b[1;33m                 \u001b[1;32mreturn\u001b[0m \u001b[0mQuantity\u001b[0m\u001b[1;33m(\u001b[0m\u001b[0mm\u001b[0m\u001b[1;33m,\u001b[0m \u001b[0mself\u001b[0m\u001b[1;33m**\u001b[0m\u001b[1;33m(\u001b[0m\u001b[1;33m-\u001b[0m\u001b[1;36m1\u001b[0m\u001b[1;33m)\u001b[0m\u001b[1;33m)\u001b[0m\u001b[1;33m\u001b[0m\u001b[1;33m\u001b[0m\u001b[0m\n\u001b[0m\u001b[0;32m    676\u001b[0m         \u001b[1;32mexcept\u001b[0m \u001b[0mTypeError\u001b[0m\u001b[1;33m:\u001b[0m\u001b[1;33m\u001b[0m\u001b[1;33m\u001b[0m\u001b[0m\n\u001b[0;32m    677\u001b[0m             \u001b[1;32mreturn\u001b[0m \u001b[0mNotImplemented\u001b[0m\u001b[1;33m\u001b[0m\u001b[1;33m\u001b[0m\u001b[0m\n",
      "\u001b[1;32m~\\Anaconda3\\lib\\site-packages\\astropy\\units\\quantity.py\u001b[0m in \u001b[0;36m__new__\u001b[1;34m(cls, value, unit, dtype, copy, order, subok, ndmin)\u001b[0m\n\u001b[0;32m    348\u001b[0m                 \u001b[1;32mif\u001b[0m \u001b[0munit\u001b[0m \u001b[1;32mis\u001b[0m \u001b[1;32mNone\u001b[0m\u001b[1;33m:\u001b[0m\u001b[1;33m\u001b[0m\u001b[1;33m\u001b[0m\u001b[0m\n\u001b[0;32m    349\u001b[0m                     \u001b[0munit\u001b[0m \u001b[1;33m=\u001b[0m \u001b[0mvalue\u001b[0m\u001b[1;33m[\u001b[0m\u001b[1;36m0\u001b[0m\u001b[1;33m]\u001b[0m\u001b[1;33m.\u001b[0m\u001b[0munit\u001b[0m\u001b[1;33m\u001b[0m\u001b[1;33m\u001b[0m\u001b[0m\n\u001b[1;32m--> 350\u001b[1;33m                 \u001b[0mvalue\u001b[0m \u001b[1;33m=\u001b[0m \u001b[1;33m[\u001b[0m\u001b[0mq\u001b[0m\u001b[1;33m.\u001b[0m\u001b[0mto_value\u001b[0m\u001b[1;33m(\u001b[0m\u001b[0munit\u001b[0m\u001b[1;33m)\u001b[0m \u001b[1;32mfor\u001b[0m \u001b[0mq\u001b[0m \u001b[1;32min\u001b[0m \u001b[0mvalue\u001b[0m\u001b[1;33m]\u001b[0m\u001b[1;33m\u001b[0m\u001b[1;33m\u001b[0m\u001b[0m\n\u001b[0m\u001b[0;32m    351\u001b[0m                 \u001b[0mvalue_unit\u001b[0m \u001b[1;33m=\u001b[0m \u001b[0munit\u001b[0m  \u001b[1;31m# signal below that conversion has been done\u001b[0m\u001b[1;33m\u001b[0m\u001b[1;33m\u001b[0m\u001b[0m\n\u001b[0;32m    352\u001b[0m \u001b[1;33m\u001b[0m\u001b[0m\n",
      "\u001b[1;32m~\\Anaconda3\\lib\\site-packages\\astropy\\units\\quantity.py\u001b[0m in \u001b[0;36m<listcomp>\u001b[1;34m(.0)\u001b[0m\n\u001b[0;32m    348\u001b[0m                 \u001b[1;32mif\u001b[0m \u001b[0munit\u001b[0m \u001b[1;32mis\u001b[0m \u001b[1;32mNone\u001b[0m\u001b[1;33m:\u001b[0m\u001b[1;33m\u001b[0m\u001b[1;33m\u001b[0m\u001b[0m\n\u001b[0;32m    349\u001b[0m                     \u001b[0munit\u001b[0m \u001b[1;33m=\u001b[0m \u001b[0mvalue\u001b[0m\u001b[1;33m[\u001b[0m\u001b[1;36m0\u001b[0m\u001b[1;33m]\u001b[0m\u001b[1;33m.\u001b[0m\u001b[0munit\u001b[0m\u001b[1;33m\u001b[0m\u001b[1;33m\u001b[0m\u001b[0m\n\u001b[1;32m--> 350\u001b[1;33m                 \u001b[0mvalue\u001b[0m \u001b[1;33m=\u001b[0m \u001b[1;33m[\u001b[0m\u001b[0mq\u001b[0m\u001b[1;33m.\u001b[0m\u001b[0mto_value\u001b[0m\u001b[1;33m(\u001b[0m\u001b[0munit\u001b[0m\u001b[1;33m)\u001b[0m \u001b[1;32mfor\u001b[0m \u001b[0mq\u001b[0m \u001b[1;32min\u001b[0m \u001b[0mvalue\u001b[0m\u001b[1;33m]\u001b[0m\u001b[1;33m\u001b[0m\u001b[1;33m\u001b[0m\u001b[0m\n\u001b[0m\u001b[0;32m    351\u001b[0m                 \u001b[0mvalue_unit\u001b[0m \u001b[1;33m=\u001b[0m \u001b[0munit\u001b[0m  \u001b[1;31m# signal below that conversion has been done\u001b[0m\u001b[1;33m\u001b[0m\u001b[1;33m\u001b[0m\u001b[0m\n\u001b[0;32m    352\u001b[0m \u001b[1;33m\u001b[0m\u001b[0m\n",
      "\u001b[1;32m~\\Anaconda3\\lib\\site-packages\\astropy\\units\\quantity.py\u001b[0m in \u001b[0;36mto_value\u001b[1;34m(self, unit, equivalencies)\u001b[0m\n\u001b[0;32m    728\u001b[0m             \u001b[1;32mexcept\u001b[0m \u001b[0mException\u001b[0m\u001b[1;33m:\u001b[0m\u001b[1;33m\u001b[0m\u001b[1;33m\u001b[0m\u001b[0m\n\u001b[0;32m    729\u001b[0m                 \u001b[1;31m# Short-cut failed; try default (maybe equivalencies help).\u001b[0m\u001b[1;33m\u001b[0m\u001b[1;33m\u001b[0m\u001b[1;33m\u001b[0m\u001b[0m\n\u001b[1;32m--> 730\u001b[1;33m                 \u001b[0mvalue\u001b[0m \u001b[1;33m=\u001b[0m \u001b[0mself\u001b[0m\u001b[1;33m.\u001b[0m\u001b[0m_to_value\u001b[0m\u001b[1;33m(\u001b[0m\u001b[0munit\u001b[0m\u001b[1;33m,\u001b[0m \u001b[0mequivalencies\u001b[0m\u001b[1;33m)\u001b[0m\u001b[1;33m\u001b[0m\u001b[1;33m\u001b[0m\u001b[0m\n\u001b[0m\u001b[0;32m    731\u001b[0m             \u001b[1;32melse\u001b[0m\u001b[1;33m:\u001b[0m\u001b[1;33m\u001b[0m\u001b[1;33m\u001b[0m\u001b[0m\n\u001b[0;32m    732\u001b[0m                 \u001b[0mvalue\u001b[0m \u001b[1;33m=\u001b[0m \u001b[0mself\u001b[0m\u001b[1;33m.\u001b[0m\u001b[0mview\u001b[0m\u001b[1;33m(\u001b[0m\u001b[0mnp\u001b[0m\u001b[1;33m.\u001b[0m\u001b[0mndarray\u001b[0m\u001b[1;33m)\u001b[0m\u001b[1;33m\u001b[0m\u001b[1;33m\u001b[0m\u001b[0m\n",
      "\u001b[1;32m~\\Anaconda3\\lib\\site-packages\\astropy\\units\\quantity.py\u001b[0m in \u001b[0;36m_to_value\u001b[1;34m(self, unit, equivalencies)\u001b[0m\n\u001b[0;32m    659\u001b[0m             \u001b[0mequivalencies\u001b[0m \u001b[1;33m=\u001b[0m \u001b[0mself\u001b[0m\u001b[1;33m.\u001b[0m\u001b[0m_equivalencies\u001b[0m\u001b[1;33m\u001b[0m\u001b[1;33m\u001b[0m\u001b[0m\n\u001b[0;32m    660\u001b[0m         return self.unit.to(unit, self.view(np.ndarray),\n\u001b[1;32m--> 661\u001b[1;33m                             equivalencies=equivalencies)\n\u001b[0m\u001b[0;32m    662\u001b[0m \u001b[1;33m\u001b[0m\u001b[0m\n\u001b[0;32m    663\u001b[0m     \u001b[1;32mdef\u001b[0m \u001b[0mto\u001b[0m\u001b[1;33m(\u001b[0m\u001b[0mself\u001b[0m\u001b[1;33m,\u001b[0m \u001b[0munit\u001b[0m\u001b[1;33m,\u001b[0m \u001b[0mequivalencies\u001b[0m\u001b[1;33m=\u001b[0m\u001b[1;33m[\u001b[0m\u001b[1;33m]\u001b[0m\u001b[1;33m)\u001b[0m\u001b[1;33m:\u001b[0m\u001b[1;33m\u001b[0m\u001b[1;33m\u001b[0m\u001b[0m\n",
      "\u001b[1;32m~\\Anaconda3\\lib\\site-packages\\astropy\\units\\core.py\u001b[0m in \u001b[0;36mto\u001b[1;34m(self, other, value, equivalencies)\u001b[0m\n\u001b[0;32m    985\u001b[0m             \u001b[1;32mreturn\u001b[0m \u001b[0mUNITY\u001b[0m\u001b[1;33m\u001b[0m\u001b[1;33m\u001b[0m\u001b[0m\n\u001b[0;32m    986\u001b[0m         \u001b[1;32melse\u001b[0m\u001b[1;33m:\u001b[0m\u001b[1;33m\u001b[0m\u001b[1;33m\u001b[0m\u001b[0m\n\u001b[1;32m--> 987\u001b[1;33m             \u001b[1;32mreturn\u001b[0m \u001b[0mself\u001b[0m\u001b[1;33m.\u001b[0m\u001b[0m_get_converter\u001b[0m\u001b[1;33m(\u001b[0m\u001b[0mother\u001b[0m\u001b[1;33m,\u001b[0m \u001b[0mequivalencies\u001b[0m\u001b[1;33m=\u001b[0m\u001b[0mequivalencies\u001b[0m\u001b[1;33m)\u001b[0m\u001b[1;33m(\u001b[0m\u001b[0mvalue\u001b[0m\u001b[1;33m)\u001b[0m\u001b[1;33m\u001b[0m\u001b[1;33m\u001b[0m\u001b[0m\n\u001b[0m\u001b[0;32m    988\u001b[0m \u001b[1;33m\u001b[0m\u001b[0m\n\u001b[0;32m    989\u001b[0m     \u001b[1;32mdef\u001b[0m \u001b[0min_units\u001b[0m\u001b[1;33m(\u001b[0m\u001b[0mself\u001b[0m\u001b[1;33m,\u001b[0m \u001b[0mother\u001b[0m\u001b[1;33m,\u001b[0m \u001b[0mvalue\u001b[0m\u001b[1;33m=\u001b[0m\u001b[1;36m1.0\u001b[0m\u001b[1;33m,\u001b[0m \u001b[0mequivalencies\u001b[0m\u001b[1;33m=\u001b[0m\u001b[1;33m[\u001b[0m\u001b[1;33m]\u001b[0m\u001b[1;33m)\u001b[0m\u001b[1;33m:\u001b[0m\u001b[1;33m\u001b[0m\u001b[1;33m\u001b[0m\u001b[0m\n",
      "\u001b[1;32m~\\Anaconda3\\lib\\site-packages\\astropy\\units\\core.py\u001b[0m in \u001b[0;36m_get_converter\u001b[1;34m(self, other, equivalencies)\u001b[0m\n\u001b[0;32m    916\u001b[0m                             \u001b[1;32mpass\u001b[0m\u001b[1;33m\u001b[0m\u001b[1;33m\u001b[0m\u001b[0m\n\u001b[0;32m    917\u001b[0m \u001b[1;33m\u001b[0m\u001b[0m\n\u001b[1;32m--> 918\u001b[1;33m             \u001b[1;32mraise\u001b[0m \u001b[0mexc\u001b[0m\u001b[1;33m\u001b[0m\u001b[1;33m\u001b[0m\u001b[0m\n\u001b[0m\u001b[0;32m    919\u001b[0m \u001b[1;33m\u001b[0m\u001b[0m\n\u001b[0;32m    920\u001b[0m     \u001b[1;32mdef\u001b[0m \u001b[0m_to\u001b[0m\u001b[1;33m(\u001b[0m\u001b[0mself\u001b[0m\u001b[1;33m,\u001b[0m \u001b[0mother\u001b[0m\u001b[1;33m)\u001b[0m\u001b[1;33m:\u001b[0m\u001b[1;33m\u001b[0m\u001b[1;33m\u001b[0m\u001b[0m\n",
      "\u001b[1;32m~\\Anaconda3\\lib\\site-packages\\astropy\\units\\core.py\u001b[0m in \u001b[0;36m_get_converter\u001b[1;34m(self, other, equivalencies)\u001b[0m\n\u001b[0;32m    902\u001b[0m         \u001b[1;32mtry\u001b[0m\u001b[1;33m:\u001b[0m\u001b[1;33m\u001b[0m\u001b[1;33m\u001b[0m\u001b[0m\n\u001b[0;32m    903\u001b[0m             return self._apply_equivalencies(\n\u001b[1;32m--> 904\u001b[1;33m                 self, other, self._normalize_equivalencies(equivalencies))\n\u001b[0m\u001b[0;32m    905\u001b[0m         \u001b[1;32mexcept\u001b[0m \u001b[0mUnitsError\u001b[0m \u001b[1;32mas\u001b[0m \u001b[0mexc\u001b[0m\u001b[1;33m:\u001b[0m\u001b[1;33m\u001b[0m\u001b[1;33m\u001b[0m\u001b[0m\n\u001b[0;32m    906\u001b[0m             \u001b[1;31m# Last hope: maybe other knows how to do it?\u001b[0m\u001b[1;33m\u001b[0m\u001b[1;33m\u001b[0m\u001b[1;33m\u001b[0m\u001b[0m\n",
      "\u001b[1;32m~\\Anaconda3\\lib\\site-packages\\astropy\\units\\core.py\u001b[0m in \u001b[0;36m_apply_equivalencies\u001b[1;34m(self, unit, other, equivalencies)\u001b[0m\n\u001b[0;32m    886\u001b[0m         raise UnitConversionError(\n\u001b[0;32m    887\u001b[0m             \"{} and {} are not convertible\".format(\n\u001b[1;32m--> 888\u001b[1;33m                 unit_str, other_str))\n\u001b[0m\u001b[0;32m    889\u001b[0m \u001b[1;33m\u001b[0m\u001b[0m\n\u001b[0;32m    890\u001b[0m     \u001b[1;32mdef\u001b[0m \u001b[0m_get_converter\u001b[0m\u001b[1;33m(\u001b[0m\u001b[0mself\u001b[0m\u001b[1;33m,\u001b[0m \u001b[0mother\u001b[0m\u001b[1;33m,\u001b[0m \u001b[0mequivalencies\u001b[0m\u001b[1;33m=\u001b[0m\u001b[1;33m[\u001b[0m\u001b[1;33m]\u001b[0m\u001b[1;33m)\u001b[0m\u001b[1;33m:\u001b[0m\u001b[1;33m\u001b[0m\u001b[1;33m\u001b[0m\u001b[0m\n",
      "\u001b[1;31mUnitConversionError\u001b[0m: 'm(3/2) solMass / (kg(1/2) pc(1/2) s)' and 's2 / (pc2 solMass)' are not convertible"
     ]
    }
   ],
   "source": [
    "%%time\n",
    "# Number of particles to generate positions and velocity vectors for.\n",
    "num = 10\n",
    "\n",
    "# We initialize lists for position vectors and a list of respective radii generated from previous functions.\n",
    "positions = np.zeros((num,3))\n",
    "\n",
    "positions,radii = rand_vect_gen(num)\n",
    "    \n",
    "# print(positions, '\\n')\n",
    "print(radii, '\\n')\n",
    "\n",
    "velocities = random_unit_vector(num)                 # Generate some num amount of velocity unit vectors.\n",
    "# print(velocities, '\\n')\n",
    "\n",
    "complexList = np.zeros((num,3))\n",
    "energyList = np.zeros((num,1))\n",
    "\n",
    "# Set an arbitrary indexing counter, i.\n",
    "for i, particle in enumerate(velocities):\n",
    "    r             = radii[i]                         # We find the corresponding radius for our i'th particle.\n",
    "    magnitude, energy = rand_velocity(r)\n",
    "    energyList[i,:]  = (energy)\n",
    "\n",
    "    particle_new  = particle * magnitude             # Update the particle's velocity vector.\n",
    "    if isnan(particle_new[0]):\n",
    "        # We identify the particles with complex velocities.\n",
    "        complexList[i,:] = (particle)\n",
    "        \n",
    "        \n",
    "    velocities[i] = particle_new                     # Set the i'th velocities vector to this updated vector.\n",
    "    \n",
    "    \n",
    "# Now, we should have a list of velocity vectors with random direction and magnitude based on energies->radii/pos.\n",
    "\n",
    "print(velocities)\n",
    "# print(positions)\n",
    "\n",
    "i = 0\n",
    "for item in velocities:\n",
    "    if isnan(item[0]):\n",
    "        i += 1\n",
    "print('\\nThere are ',i,'cases where the velocity is NaN!\\n')\n",
    "print('This means: ',(i/num)*100,'% of the particles generated could not have a velocity.\\n')\n",
    "\n",
    "print(complexList)\n",
    "print(energyList)\n",
    "# Only NaN when the energy is a positive value?????\n",
    "\n",
    "\n"
   ]
  },
  {
   "cell_type": "code",
   "execution_count": 28,
   "metadata": {},
   "outputs": [
    {
     "data": {
      "text/latex": [
       "$3.2407793 \\times 10^{83} \\; \\mathrm{pc}$"
      ],
      "text/plain": [
       "<Quantity 3.24077929e+83 pc>"
      ]
     },
     "execution_count": 28,
     "metadata": {},
     "output_type": "execute_result"
    }
   ],
   "source": [
    "20 * u.parsec + 10**100 * u.meter"
   ]
  },
  {
   "cell_type": "code",
   "execution_count": null,
   "metadata": {},
   "outputs": [],
   "source": []
  }
 ],
 "metadata": {
  "kernelspec": {
   "display_name": "Python 3",
   "language": "python",
   "name": "python3"
  },
  "language_info": {
   "codemirror_mode": {
    "name": "ipython",
    "version": 3
   },
   "file_extension": ".py",
   "mimetype": "text/x-python",
   "name": "python",
   "nbconvert_exporter": "python",
   "pygments_lexer": "ipython3",
   "version": "3.7.7"
  }
 },
 "nbformat": 4,
 "nbformat_minor": 2
}
