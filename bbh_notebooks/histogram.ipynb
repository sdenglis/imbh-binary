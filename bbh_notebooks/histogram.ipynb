{
 "cells": [
  {
   "cell_type": "code",
   "execution_count": 1,
   "metadata": {},
   "outputs": [],
   "source": [
    "import numpy as np\n",
    "import matplotlib.pyplot as plt\n",
    "%matplotlib inline"
   ]
  },
  {
   "cell_type": "code",
   "execution_count": 2,
   "metadata": {},
   "outputs": [],
   "source": [
    "samples = np.random.normal(size=10000)"
   ]
  },
  {
   "cell_type": "code",
   "execution_count": 3,
   "metadata": {},
   "outputs": [
    {
     "data": {
      "text/plain": [
       "[<matplotlib.lines.Line2D at 0x119694b38>]"
      ]
     },
     "execution_count": 3,
     "metadata": {},
     "output_type": "execute_result"
    },
    {
     "data": {
      "image/png": "[encoded data removed]",
      "text/plain": [
       "<Figure size 432x288 with 1 Axes>"
      ]
     },
     "metadata": {
      "needs_background": "light"
     },
     "output_type": "display_data"
    }
   ],
   "source": [
    "x = np.linspace(-10, 10, 1000)\n",
    "y = np.exp(-x**2. / 2.) / np.sqrt(2.*np.pi)\n",
    "plt.hist(samples, density=True, bins=100)\n",
    "plt.plot(x, y, color='r')"
   ]
  },
  {
   "cell_type": "code",
   "execution_count": 4,
   "metadata": {},
   "outputs": [
    {
     "data": {
      "text/plain": [
       "[<matplotlib.lines.Line2D at 0x11985cb38>]"
      ]
     },
     "execution_count": 4,
     "metadata": {},
     "output_type": "execute_result"
    },
    {
     "data": {
      "image/png": "[encoded data removed]",
      "text/plain": [
       "<Figure size 432x288 with 1 Axes>"
      ]
     },
     "metadata": {
      "needs_background": "light"
     },
     "output_type": "display_data"
    }
   ],
   "source": [
    "samples = np.random.normal(scale=2., size=10000)\n",
    "plt.hist(samples, density=True, bins=100)\n",
    "plt.plot(x, y, color='r')"
   ]
  },
  {
   "cell_type": "markdown",
   "metadata": {},
   "source": [
    "# Sampling from an arbitrary pdf"
   ]
  },
  {
   "cell_type": "markdown",
   "metadata": {},
   "source": [
    "For when `scipy.rv_continuous` is overkill…"
   ]
  },
  {
   "cell_type": "code",
   "execution_count": 2,
   "metadata": {},
   "outputs": [],
   "source": [
    "from scipy.interpolate import interp1d"
   ]
  },
  {
   "cell_type": "code",
   "execution_count": 3,
   "metadata": {},
   "outputs": [],
   "source": [
    "def sample_cdf(pdf, xmin, xmax, n_bins=1000, log=False):\n",
    "    if log:\n",
    "        binner = np.geomspace\n",
    "    else:\n",
    "        binner = np.linspace\n",
    "    edges = binner(xmin, xmax, n_bins)\n",
    "    bins = np.vstack((edges[:-1], edges[1:])).T\n",
    "    centers = np.mean(bins, axis=1)\n",
    "    widths = bins[:, 1] - bins[:, 0]\n",
    "    pdf_samples = pdf(centers)\n",
    "    cdf_samples = np.cumsum(pdf_samples * widths)\n",
    "    cdf_samples /= cdf_samples[-1]\n",
    "    return np.vstack((centers, cdf_samples)).T\n",
    "\n",
    "def inverse_cdf(*args, **kwargs):\n",
    "    iy, ix = sample_cdf(*args, **kwargs).T\n",
    "    return interp1d(ix, iy, fill_value='extrapolate')\n",
    "\n",
    "def sample(icdf, n_samples):\n",
    "    range_samples = np.random.uniform(size=n_samples)\n",
    "    return icdf(range_samples)"
   ]
  },
  {
   "cell_type": "code",
   "execution_count": 4,
   "metadata": {},
   "outputs": [],
   "source": [
    "rho_sp   = 226              # solar mass / pc**3\n",
    "gamma_sp = 7/3              # slope parameter\n",
    "\n",
    "\n",
    "# r_in   = 5.906*10**7      # meters, ASSUMING gamma_sp = 7/3\n",
    "r_in     = 1.914*10**-9     # \"Parsecs\"\n",
    "\n",
    "# r_sp   = 3.61324*10**16   # meters, ASSUMING gamma_sp = 7/3\n",
    "r_sp     = 1.17097          # \"Parsecs\""
   ]
  },
  {
   "cell_type": "code",
   "execution_count": 7,
   "metadata": {},
   "outputs": [
    {
     "name": "stdout",
     "output_type": "stream",
     "text": [
      "Wall time: 191 ms\n"
     ]
    }
   ],
   "source": [
    "%%time\n",
    "def pdf(r):\n",
    "    rho_dm = rho_sp*(r_sp/r)**gamma_sp\n",
    "    return rho_dm*r**2\n",
    "    \n",
    "icdf = inverse_cdf(pdf, 10, 1e3)\n",
    "samples = sample(icdf, 1000000)"
   ]
  },
  {
   "cell_type": "code",
   "execution_count": 8,
   "metadata": {},
   "outputs": [
    {
     "data": {
      "image/png": "[encoded data removed]",
      "text/plain": [
       "<Figure size 432x288 with 1 Axes>"
      ]
     },
     "metadata": {
      "needs_background": "light"
     },
     "output_type": "display_data"
    }
   ],
   "source": [
    "plt.loglog()\n",
    "x = np.geomspace(10, 1e3, 100)\n",
    "plt.plot(x, pdf(x))\n",
    "plt.hist(samples, density=True, bins=np.geomspace(10, 1e3, 100));"
   ]
  },
  {
   "cell_type": "markdown",
   "metadata": {},
   "source": [
    "I had not bothered to normalize the input pdf, so there is a constant factor between my histogram and the pdf. (Remember, a shift on a log-log plot is a constant multiplicative factor.) But there is no need to normalize in order for this code to work."
   ]
  },
  {
   "cell_type": "code",
   "execution_count": null,
   "metadata": {},
   "outputs": [],
   "source": []
  }
 ],
 "metadata": {
  "kernelspec": {
   "display_name": "Python 3",
   "language": "python",
   "name": "python3"
  },
  "language_info": {
   "codemirror_mode": {
    "name": "ipython",
    "version": 3
   },
   "file_extension": ".py",
   "mimetype": "text/x-python",
   "name": "python",
   "nbconvert_exporter": "python",
   "pygments_lexer": "ipython3",
   "version": "3.7.0"
  }
 },
 "nbformat": 4,
 "nbformat_minor": 2
}
