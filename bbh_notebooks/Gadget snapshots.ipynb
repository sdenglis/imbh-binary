{
 "cells": [
  {
   "cell_type": "code",
   "execution_count": 1,
   "metadata": {},
   "outputs": [],
   "source": [
    "import numpy as np\n",
    "from bbh.sim import GadgetSnapshot, ParticleType"
   ]
  },
  {
   "cell_type": "code",
   "execution_count": 2,
   "metadata": {},
   "outputs": [],
   "source": [
    "ic = GadgetSnapshot()"
   ]
  },
  {
   "cell_type": "code",
   "execution_count": 3,
   "metadata": {},
   "outputs": [
    {
     "name": "stdout",
     "output_type": "stream",
     "text": [
      "GADGET HEADER\n",
      "==================================================\n",
      "Npart:             array([0, 0, 0, 0, 0, 0])\n",
      "Massarr:           array([0., 0., 0., 0., 0., 0.])\n",
      "Time:              0\n",
      "Redshift:          0\n",
      "FlagSfr:           0\n",
      "FlagFeedback:      0\n",
      "Nall:              array([0, 0, 0, 0, 0, 0])\n",
      "FlagCooling:       0\n",
      "NumFiles:          0\n",
      "BoxSize:           0\n",
      "Omega0:            0.0\n",
      "OmegaLambda:       0.0\n",
      "HubbleParam:       1.0\n",
      "FlagAge:           0\n",
      "FlagMetals:        0\n",
      "NallHW:            0\n",
      "flag_entr_ics:     0\n",
      "==================================================\n",
      "\n"
     ]
    }
   ],
   "source": [
    "print(ic.header)"
   ]
  },
  {
   "cell_type": "code",
   "execution_count": 4,
   "metadata": {},
   "outputs": [
    {
     "data": {
      "text/plain": [
       "0.0"
      ]
     },
     "execution_count": 4,
     "metadata": {},
     "output_type": "execute_result"
    }
   ],
   "source": [
    "ic.header.Massarr[ParticleType.Gas]"
   ]
  },
  {
   "cell_type": "code",
   "execution_count": 5,
   "metadata": {},
   "outputs": [
    {
     "data": {
      "text/plain": [
       "array([], shape=(0, 3), dtype=float64)"
      ]
     },
     "execution_count": 5,
     "metadata": {},
     "output_type": "execute_result"
    }
   ],
   "source": [
    "ic.pos"
   ]
  },
  {
   "cell_type": "code",
   "execution_count": 6,
   "metadata": {},
   "outputs": [],
   "source": [
    "id_1 = ic.add(1, np.zeros(3), np.zeros(3), mass=1)"
   ]
  },
  {
   "cell_type": "code",
   "execution_count": 7,
   "metadata": {},
   "outputs": [],
   "source": [
    "id_2 = ic.add(1, np.zeros(3) + 1, np.zeros(3), mass=2)"
   ]
  },
  {
   "cell_type": "code",
   "execution_count": 8,
   "metadata": {},
   "outputs": [
    {
     "data": {
      "text/plain": [
       "array([[0., 0., 0.],\n",
       "       [1., 1., 1.]])"
      ]
     },
     "execution_count": 8,
     "metadata": {},
     "output_type": "execute_result"
    }
   ],
   "source": [
    "ic.pos"
   ]
  },
  {
   "cell_type": "code",
   "execution_count": 9,
   "metadata": {},
   "outputs": [],
   "source": [
    "index_1 = ic.indexof(id_1)\n",
    "index_2 = ic.indexof(id_2)"
   ]
  },
  {
   "cell_type": "code",
   "execution_count": 10,
   "metadata": {},
   "outputs": [
    {
     "data": {
      "text/plain": [
       "array([0., 0., 0.])"
      ]
     },
     "execution_count": 10,
     "metadata": {},
     "output_type": "execute_result"
    }
   ],
   "source": [
    "ic.pos[index_1]"
   ]
  },
  {
   "cell_type": "code",
   "execution_count": 11,
   "metadata": {},
   "outputs": [
    {
     "data": {
      "text/plain": [
       "array([1., 1., 1.])"
      ]
     },
     "execution_count": 11,
     "metadata": {},
     "output_type": "execute_result"
    }
   ],
   "source": [
    "ic.pos[index_2]"
   ]
  },
  {
   "cell_type": "code",
   "execution_count": 12,
   "metadata": {},
   "outputs": [
    {
     "data": {
      "text/plain": [
       "array([1., 2.])"
      ]
     },
     "execution_count": 12,
     "metadata": {},
     "output_type": "execute_result"
    }
   ],
   "source": [
    "ic.masses"
   ]
  },
  {
   "cell_type": "code",
   "execution_count": 13,
   "metadata": {},
   "outputs": [
    {
     "name": "stdout",
     "output_type": "stream",
     "text": [
      "GADGET HEADER\n",
      "==================================================\n",
      "Npart:             array([0, 2, 0, 0, 0, 0])\n",
      "Massarr:           array([0., 0., 0., 0., 0., 0.])\n",
      "Time:              0\n",
      "Redshift:          0\n",
      "FlagSfr:           0\n",
      "FlagFeedback:      0\n",
      "Nall:              array([0, 2, 0, 0, 0, 0])\n",
      "FlagCooling:       0\n",
      "NumFiles:          0\n",
      "BoxSize:           0\n",
      "Omega0:            0.0\n",
      "OmegaLambda:       0.0\n",
      "HubbleParam:       1.0\n",
      "FlagAge:           0\n",
      "FlagMetals:        0\n",
      "NallHW:            0\n",
      "flag_entr_ics:     0\n",
      "==================================================\n",
      "\n"
     ]
    }
   ],
   "source": [
    "print(ic.header)"
   ]
  },
  {
   "cell_type": "code",
   "execution_count": 14,
   "metadata": {},
   "outputs": [],
   "source": [
    "ic.header.Massarr[ParticleType.Gas] = 1."
   ]
  },
  {
   "cell_type": "code",
   "execution_count": 15,
   "metadata": {},
   "outputs": [],
   "source": [
    "for _ in range(1000):\n",
    "    ptype = ParticleType(np.random.choice(ParticleType))\n",
    "    if ptype == ParticleType.Gas:\n",
    "        mass = None\n",
    "    else:\n",
    "        mass = np.random.uniform()\n",
    "    position = np.random.uniform(size=3)\n",
    "    velocity = np.random.uniform(size=3)\n",
    "    ic.add(ptype, position, velocity, mass)"
   ]
  },
  {
   "cell_type": "code",
   "execution_count": 16,
   "metadata": {},
   "outputs": [
    {
     "name": "stdout",
     "output_type": "stream",
     "text": [
      "GADGET HEADER\n",
      "==================================================\n",
      "Npart:             array([166, 164, 165, 170, 183, 154])\n",
      "Massarr:           array([1., 0., 0., 0., 0., 0.])\n",
      "Time:              0\n",
      "Redshift:          0\n",
      "FlagSfr:           0\n",
      "FlagFeedback:      0\n",
      "Nall:              array([166, 164, 165, 170, 183, 154])\n",
      "FlagCooling:       0\n",
      "NumFiles:          0\n",
      "BoxSize:           0\n",
      "Omega0:            0.0\n",
      "OmegaLambda:       0.0\n",
      "HubbleParam:       1.0\n",
      "FlagAge:           0\n",
      "FlagMetals:        0\n",
      "NallHW:            0\n",
      "flag_entr_ics:     0\n",
      "==================================================\n",
      "\n"
     ]
    }
   ],
   "source": [
    "print(ic.header)"
   ]
  },
  {
   "cell_type": "code",
   "execution_count": 17,
   "metadata": {},
   "outputs": [
    {
     "data": {
      "text/plain": [
       "836"
      ]
     },
     "execution_count": 17,
     "metadata": {},
     "output_type": "execute_result"
    }
   ],
   "source": [
    "len(ic.masses)"
   ]
  },
  {
   "cell_type": "markdown",
   "metadata": {},
   "source": [
    "This should include all particles except gas particles, which get their mass from `Massarr`. Let's count how many of these there are."
   ]
  },
  {
   "cell_type": "code",
   "execution_count": 18,
   "metadata": {},
   "outputs": [
    {
     "data": {
      "text/plain": [
       "836"
      ]
     },
     "execution_count": 18,
     "metadata": {},
     "output_type": "execute_result"
    }
   ],
   "source": [
    "np.sum(ic.header.Npart[1:])"
   ]
  },
  {
   "cell_type": "code",
   "execution_count": null,
   "metadata": {},
   "outputs": [],
   "source": []
  }
 ],
 "metadata": {
  "kernelspec": {
   "display_name": "Python 3",
   "language": "python",
   "name": "python3"
  },
  "language_info": {
   "codemirror_mode": {
    "name": "ipython",
    "version": 3
   },
   "file_extension": ".py",
   "mimetype": "text/x-python",
   "name": "python",
   "nbconvert_exporter": "python",
   "pygments_lexer": "ipython3",
   "version": "3.7.7"
  }
 },
 "nbformat": 4,
 "nbformat_minor": 2
}
